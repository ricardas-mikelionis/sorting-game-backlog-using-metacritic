{
 "cells": [
  {
   "cell_type": "markdown",
   "id": "407919cf",
   "metadata": {},
   "source": [
    "# Using Metacritic and HowLongToBeat data to determine which games from my backlog are worth playing\n",
    "\n",
    "This is a personal problem that every gamer faces at some point. Currently I own over 500  video games on 18 different platforms and storefrons in both physical and digital. Picking out a new game to play is becoming a daunting task so I've decided to use data from Metacritic, mainly Critic reviews, and the number of said reviews as well as average length of a playthrough as provided by HowLongToBeat to determine which of my games are worth playing."
   ]
  },
  {
   "cell_type": "code",
   "execution_count": 1,
   "id": "de71b080",
   "metadata": {},
   "outputs": [],
   "source": [
    "import re\n",
    "from bs4 import BeautifulSoup\n",
    "import requests\n",
    "import pandas as pd\n",
    "from howlongtobeatpy import HowLongToBeat as hltb"
   ]
  },
  {
   "cell_type": "markdown",
   "id": "e0910770",
   "metadata": {},
   "source": [
    "## Data\n",
    "\n",
    "### Preparing and reading data"
   ]
  },
  {
   "cell_type": "code",
   "execution_count": 2,
   "id": "56e2e24a",
   "metadata": {},
   "outputs": [],
   "source": [
    "list_of_games = pd.read_csv(r\"C:\\Users\\ricar\\Documents\\Python Scripts\\Game Backlog\\game_list.csv\", encoding='cp1252')"
   ]
  },
  {
   "attachments": {},
   "cell_type": "markdown",
   "id": "62a3ae36",
   "metadata": {},
   "source": [
    "I've made a list of every game I own in .csv format. The document is pretty simple it contains the name of the game in the first column and the platform for which I own the game in the second. All my Steam, Epic Store, Origin, Amazon and other PC storefronts were marked as 'pc'.\n",
    "\n",
    "Example of the .csv file:\n",
    "\n",
    "| name | platform |\n",
    "| --- | --- |\n",
    "| Abzu | playstation-4 |\n",
    "| Alien Isolation | playstation-3 |\n",
    "| Animal Crossing Amiibo Festival | wii-u |\n",
    "| Animal Crossing New Horizons | switch |\n",
    "| Assassin's Creed | pc |\n",
    "\n",
    "### Getting Metacritic data\n",
    "\n",
    "I want to have the metacritic critics score as well as number of reviews that match the platform I own the game on. However matacritic does not provide any api, or database for their game information, so I've decided to scrape metacritic to get the data I need.\n",
    "\n",
    "Page for every game contains it's 'Metascore', the critic aggregate review score as well as number of said reviews. Using page inspection tool I've detemined which html code blocks have the data I need. I will feed the tags into the html parser and get the necessary data. For examle here is the game Enter the Gungeon for Playstation 4 ![metacritic%20example.png](attachment:metacritic%20example.png). The Metascore is in this html element:\n",
    "```html\n",
    "<div class=\"metascore_w xlarge game positive\">\n",
    "    <meta itemprop=\"worstRating\" content=\"0\">\n",
    "    <meta itemprop=\"bestRating\" content=\"100\">\n",
    "    <span itemprop=\"ratingValue\">82</span>\n",
    "</div>\n",
    "```\n",
    "\n",
    "Metacritic generates the link to the page of a game using 'https://www.metacritic.com/game/' base url then adding the platform for example 'playstation-4' and then the game name hyphenated and in lowercase, e.g. enter-the-gungeon, making the final url https://www.metacritic.com/game/playstation-4/enter-the-gungeon which is perfect, because I have an easy way to generate the url to grab the html, and then parse out the data I need."
   ]
  },
  {
   "cell_type": "code",
   "execution_count": 3,
   "id": "a8dd4a4b",
   "metadata": {},
   "outputs": [],
   "source": [
    "def extract_mc_data(series):\n",
    "    url = 'https://www.metacritic.com/game/'\n",
    "    name = series['name'].replace('.','').replace(',','').replace('-','').replace('\\'','').replace(':','').replace(' ','-')\n",
    "    #removing any symbols from the game title that do not appear in metacritic links,\n",
    "    #replacing any spaces with '-'\n",
    "    session = requests.Session()\n",
    "    session.headers['User-Agent'] = 'Mozilla/5.0 (Macintosh; Intel Mac OS X 10_9_2) AppleWebKit/537.36 (KHTML, like Gecko) Chrome/34.0.1847.131 Safari/537.36'\n",
    "    #Making sure that requests are sent as if they were done through a browser,\n",
    "    #otherwise metacritic does not return the correct page.\n",
    "    full_url = url + series['platform'] + '/' + name.lower() + '/'\n",
    "    #creating the metacritic link, making sure name is in all lowercase as the metacritic links are case-sensitive\n",
    "    response = session.get(full_url)\n",
    "    parser = BeautifulSoup(response.content, 'html.parser')\n",
    "    #dowloading the full html page for each game and feeding it into a html parser\n",
    "    \n",
    "    review_count_elements = parser.find(\"span\", class_=\"count\")\n",
    "    if review_count_elements is not None:\n",
    "        review_count_text = review_count_elements.text.strip()\n",
    "        review_count = int(re.findall(r'[\\d]+', review_count_text)[0])\n",
    "    else:\n",
    "        review_count = 0\n",
    "    #Checking if the html file contains text 'based on x Critic Reviews'\n",
    "    #if it does then extraxting the number of reviews using a simple regex and converting to int\n",
    "    #if game contains 0 reviews, or page for a game does not exist then review count is set to 0\n",
    "    \n",
    "    score_elements = parser.find(\"span\", itemprop=\"ratingValue\")\n",
    "    if score_elements is not None:\n",
    "        score_text = score_elements.text.strip()\n",
    "        score = int(score_text)\n",
    "    else:\n",
    "        score = 0\n",
    "    #Checking if the html file contains element 'ratingValue'\n",
    "    #if it does then extraxting the critics score and converting to int\n",
    "    #if game contains 0 reviews, or page for a game does not exist then critics score is set to 0\n",
    "    return pd.Series([series['name'], series['platform'], score, review_count], index =['name', 'platform', 'score', 'total_reviews'])"
   ]
  },
  {
   "cell_type": "code",
   "execution_count": 4,
   "id": "cc6d9f7d",
   "metadata": {},
   "outputs": [
    {
     "name": "stdout",
     "output_type": "stream",
     "text": [
      "name             Enter the Gungeon\n",
      "platform             playstation-4\n",
      "score                           82\n",
      "total_reviews                   33\n",
      "dtype: object\n"
     ]
    }
   ],
   "source": [
    "print(extract_mc_data(list_of_games.iloc[34]))\n",
    "#testing to see if function works"
   ]
  },
  {
   "cell_type": "code",
   "execution_count": 5,
   "id": "3b709ee6",
   "metadata": {},
   "outputs": [],
   "source": [
    "subset_10 = list_of_games.head(10)"
   ]
  },
  {
   "cell_type": "code",
   "execution_count": 6,
   "id": "001f653a",
   "metadata": {},
   "outputs": [],
   "source": [
    "subset_10 = subset_10.apply(extract_mc_data, axis='columns')"
   ]
  },
  {
   "cell_type": "code",
   "execution_count": 7,
   "id": "7b5c21b3",
   "metadata": {},
   "outputs": [
    {
     "name": "stdout",
     "output_type": "stream",
     "text": [
      "                              name       platform  score  total_reviews\n",
      "0                             Abzu  playstation-4     78             72\n",
      "1                  Alien Isolation  playstation-3      0              0\n",
      "2  Animal Crossing Amiibo Festival          wii-u     46             20\n",
      "3     Animal Crossing New Horizons         switch     90            111\n",
      "4                 Assassin's Creed             pc      0              0\n",
      "5                        Bayonetta          wii-u     86             18\n",
      "6                      Bayonetta 2          wii-u     91             80\n",
      "7                    Balloon Fight            NES      0              0\n",
      "8             Batman Arkham Asylum  playstation-3     91             70\n",
      "9                       BloodBorne  playstation-4     92            100\n"
     ]
    }
   ],
   "source": [
    "print(subset_10)"
   ]
  },
  {
   "cell_type": "code",
   "execution_count": null,
   "id": "68a4cff3",
   "metadata": {},
   "outputs": [],
   "source": [
    "list_of_games = list_of_games.apply(extract_mc_data, axis='columns')"
   ]
  },
  {
   "cell_type": "code",
   "execution_count": null,
   "id": "082d1e48",
   "metadata": {},
   "outputs": [],
   "source": [
    "list_of_games.head(10)"
   ]
  },
  {
   "cell_type": "code",
   "execution_count": null,
   "id": "4e9d52b2",
   "metadata": {},
   "outputs": [],
   "source": [
    "list_of_games.tail(10)"
   ]
  },
  {
   "cell_type": "code",
   "execution_count": null,
   "id": "967765fd",
   "metadata": {},
   "outputs": [],
   "source": [
    "list_of_games[list_of_games['score'] == 0].head(15)"
   ]
  },
  {
   "cell_type": "markdown",
   "id": "ddbeed40",
   "metadata": {},
   "source": [
    "Web scraping from metacritic was a success! Now my game list contains both the critics score and the number of reviews. Unfortunately there are a number of games that contain 0 reviews and have a score of 0. In some cases there is simply no page for the game on metacritic. For example I own an original copy of Assassin's Creed on PC however metacritic does not have a page for the original version of the game, and only has a Director's cut re-release page. I would consider these different enough and do not want to use one score to fill in gaps in the other, so I'll leave them as 0 for now. \n",
    "\n",
    "Another issue is that Metacritic only contains pages and reviews for the games starting with the sixth generation of consoles. Meaning any games I own for the original Playstatio, GameBoy, GameBoy Color, Nintendo Entertainment System, or Nintendo 64 would automatically have 0 score and 0 reviews.\n",
    "\n",
    "### Getting HowLongToBeat Data"
   ]
  },
  {
   "cell_type": "code",
   "execution_count": null,
   "id": "92707da1",
   "metadata": {},
   "outputs": [],
   "source": [
    "def extract_hltb_data(name):\n",
    "    matching_games = hltb().search(name)\n",
    "    gametime = [0, 0, 0]\n",
    "    if matching_games is not None:\n",
    "        for game in matching_games:\n",
    "            if name == game.game_name:\n",
    "                gametime[0] = game.main_story\n",
    "                gametime[1] = game.main_extra\n",
    "                \n",
    "    gametime[2] = (gametime[0] + gametime[1]) / 2\n",
    "    return pd.Series(gametime)"
   ]
  },
  {
   "cell_type": "code",
   "execution_count": null,
   "id": "dba14714",
   "metadata": {},
   "outputs": [],
   "source": [
    "print(extract_hltb_data(list_of_games.iloc[216]['name']))"
   ]
  },
  {
   "cell_type": "code",
   "execution_count": null,
   "id": "6924bcfd",
   "metadata": {},
   "outputs": [],
   "source": [
    "list_of_games[['main_story', 'main_extra', 'avg_playthrough']] = list_of_games['name'].apply(extract_hltb_data)"
   ]
  },
  {
   "cell_type": "code",
   "execution_count": null,
   "id": "569262a5",
   "metadata": {},
   "outputs": [],
   "source": [
    "list_of_games.tail(10)"
   ]
  },
  {
   "cell_type": "code",
   "execution_count": null,
   "id": "0b4ed58e",
   "metadata": {},
   "outputs": [],
   "source": [
    "list_of_games['normalized_score'] = list_of_games['score'].apply(\n",
    "    lambda x: (x - list_of_games['score'].min())/(list_of_games['score'].max() - list_of_games['score'].min()))"
   ]
  },
  {
   "cell_type": "code",
   "execution_count": null,
   "id": "4f224bbc",
   "metadata": {},
   "outputs": [],
   "source": [
    "list_of_games['normalized_reviews'] = list_of_games['total_reviews'].apply(\n",
    "    lambda x: (x - list_of_games['total_reviews'].min())/(list_of_games['total_reviews'].max() - list_of_games['total_reviews'].min()))"
   ]
  },
  {
   "cell_type": "code",
   "execution_count": null,
   "id": "44ad9238",
   "metadata": {},
   "outputs": [],
   "source": [
    "list_of_games['normalized_time'] = list_of_games['avg_playthrough'].apply(\n",
    "    lambda x: (x - list_of_games['avg_playthrough'].min())/(list_of_games['avg_playthrough'].max() - list_of_games['avg_playthrough'].min()))"
   ]
  },
  {
   "cell_type": "code",
   "execution_count": null,
   "id": "71563db0",
   "metadata": {},
   "outputs": [],
   "source": [
    "list_of_games['playability_score'] = list_of_games.apply(\n",
    "    lambda x: ((x['normalized_score']*0.5)+(x['normalized_reviews']*0.3)+(x['normalized_time']*0.2)) * 100,\n",
    "    axis='columns')"
   ]
  },
  {
   "cell_type": "code",
   "execution_count": null,
   "id": "03bfe7de",
   "metadata": {},
   "outputs": [],
   "source": [
    "list_of_games.sort_values(['playability_score'], inplace=True, ascending=False)\n",
    "list_of_games[['name', 'platform', 'playability_score']].head(15)"
   ]
  },
  {
   "cell_type": "code",
   "execution_count": null,
   "id": "65dd8b5e",
   "metadata": {},
   "outputs": [],
   "source": [
    "list_of_games.to_csv(r\"C:\\Users\\ricar\\Documents\\Python Scripts\\Game Backlog\\backlog.csv\")"
   ]
  }
 ],
 "metadata": {
  "kernelspec": {
   "display_name": "Python 3 (ipykernel)",
   "language": "python",
   "name": "python3"
  },
  "language_info": {
   "codemirror_mode": {
    "name": "ipython",
    "version": 3
   },
   "file_extension": ".py",
   "mimetype": "text/x-python",
   "name": "python",
   "nbconvert_exporter": "python",
   "pygments_lexer": "ipython3",
   "version": "3.9.12"
  }
 },
 "nbformat": 4,
 "nbformat_minor": 5
}
